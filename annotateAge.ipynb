{
 "cells": [
  {
   "cell_type": "code",
   "execution_count": 1,
   "metadata": {
    "collapsed": true
   },
   "outputs": [],
   "source": [
    "import cognitive_face as CF\n",
    "import os\n",
    "import glob\n",
    "import time"
   ]
  },
  {
   "cell_type": "code",
   "execution_count": 2,
   "metadata": {
    "collapsed": false
   },
   "outputs": [],
   "source": [
    "with open(os.environ['HOME'] + '/COGFACE.txt', 'r') as f:\n",
    "    KEY = f.readline().strip()\n",
    "CF.Key.set(KEY)"
   ]
  },
  {
   "cell_type": "code",
   "execution_count": 3,
   "metadata": {
    "collapsed": false
   },
   "outputs": [],
   "source": [
    "already_seen = []\n",
    "\n",
    "with open('./ageGenderAnnotations.csv', 'r') as inf:\n",
    "    for line in inf:\n",
    "        line = line.strip().split(',')\n",
    "        already_seen.append(line[0])        "
   ]
  },
  {
   "cell_type": "code",
   "execution_count": null,
   "metadata": {
    "collapsed": false
   },
   "outputs": [
    {
     "name": "stdout",
     "output_type": "stream",
     "text": [
      "status_code: 400\n",
      "response: {\"error\":{\"code\":\"InvalidImageSize\",\"message\":\"Image size is too small or too big.\"}}\n",
      "71983335 failed\n"
     ]
    }
   ],
   "source": [
    "annofile = './ageGenderAnnotations.csv'\n",
    "\n",
    "flatten = lambda l: [item for sublist in l for item in sublist]\n",
    "\n",
    "ages = {}\n",
    "genders = {}\n",
    "\n",
    "pre = \"./overweightPictures/*.\"\n",
    "files_grabbed = flatten([glob.glob(e) for e in [pre+'jpg', pre+'jpeg', pre+'png', pre+'gif']])\n",
    "\n",
    "header_needed = False\n",
    "if os.path.getsize(annofile) == 0:\n",
    "    header_needed = True\n",
    "\n",
    "outf = open(annofile, 'a')\n",
    "if(header_needed):\n",
    "    outf.write('id,age,gender\\n')\n",
    "\n",
    "for fp in files_grabbed:\n",
    "    fnWithExtension = os.path.basename(fp)\n",
    "    fn = os.path.splitext(fnWithExtension)[0]\n",
    "    if (fn not in already_seen):\n",
    "        try:\n",
    "            resp = CF.face.detect(fp, attributes='age,gender')\n",
    "            if(len(resp) > 0):\n",
    "                age = resp[-1]['faceAttributes']['age']\n",
    "                gender = resp[-1]['faceAttributes']['gender']\n",
    "                outf.write(str(fn) + ',' + str(age) + ',' + gender + '\\n')\n",
    "            else:\n",
    "                outf.write(str(fn) + ',NA,NA\\n')\n",
    "        except:\n",
    "            print(fn + \" failed\")\n",
    "            outf.write(str(fn) + ',NA,NA\\n')\n",
    "        time.sleep(3.2) # API rate limit: 20 requests per minute\n",
    "\n",
    "outf.close()"
   ]
  },
  {
   "cell_type": "code",
   "execution_count": 6,
   "metadata": {
    "collapsed": true
   },
   "outputs": [],
   "source": [
    "outf.close()"
   ]
  }
 ],
 "metadata": {
  "kernelspec": {
   "display_name": "Python 3",
   "language": "python",
   "name": "python3"
  }
 },
 "nbformat": 4,
 "nbformat_minor": 2
}
