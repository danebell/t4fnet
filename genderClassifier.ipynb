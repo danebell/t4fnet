{
 "cells": [
  {
   "cell_type": "code",
   "execution_count": 1,
   "metadata": {
    "collapsed": false
   },
   "outputs": [
    {
     "name": "stderr",
     "output_type": "stream",
     "text": [
      "Using TensorFlow backend.\n"
     ]
    }
   ],
   "source": [
    "import os\n",
    "import pandas as pd\n",
    "import glob\n",
    "import menpo.io as mio\n",
    "import numpy as np\n",
    "#np.random.seed(1337)  # for reproducibility\n",
    "from keras.utils import np_utils\n",
    "from keras import backend as K"
   ]
  },
  {
   "cell_type": "code",
   "execution_count": 2,
   "metadata": {
    "collapsed": true
   },
   "outputs": [],
   "source": [
    "# returns (X_train, y_train), (X_test, y_test)\n",
    "def randomSplit(X, y, propTest):\n",
    "    assert X.shape[0] == y.shape[0]\n",
    "    p = np.random.permutation(len(y))\n",
    "    sX, sy = X[p], y[p]\n",
    "    cutoff = round(propTest * len(y))\n",
    "    return (sX[cutoff:], sy[cutoff:]), (sX[0:cutoff], sy[0:cutoff])\n",
    "\n",
    "def randomOrder(X, y):\n",
    "    p = np.random.permutation(len(y))\n",
    "    return X[p], y[p]"
   ]
  },
  {
   "cell_type": "code",
   "execution_count": 10,
   "metadata": {
    "collapsed": true
   },
   "outputs": [],
   "source": [
    "data_file = '/home/dane/data/imdb_crop/meta.csv'\n",
    "image_folder = '/home/dane/data/imdb_crop/' # must end with '/'\n",
    "#image_folder = '/data/nlp/corpora/imdb_crop/' # must end with '/'\n",
    "variable = 0 # relevant column of data_file\n",
    "height = 128\n",
    "width = 128\n",
    "channels = 3"
   ]
  },
  {
   "cell_type": "code",
   "execution_count": 8,
   "metadata": {
    "collapsed": false
   },
   "outputs": [],
   "source": [
    "annos = pd.DataFrame.from_csv(data_file, header=None, index_col=None)"
   ]
  },
  {
   "cell_type": "code",
   "execution_count": 15,
   "metadata": {
    "collapsed": true
   },
   "outputs": [],
   "source": [
    "ids = list(set(annos[2].get_values()))\n",
    "ids = np.random.permutation(ids)\n",
    "boundary = round(0.9 * len(ids))\n",
    "train_ids = set(ids[0:boundary])\n",
    "test_ids = set(ids[boundary:])\n"
   ]
  },
  {
   "cell_type": "code",
   "execution_count": 17,
   "metadata": {
    "collapsed": false
   },
   "outputs": [
    {
     "data": {
      "text/plain": [
       "414651"
      ]
     },
     "execution_count": 17,
     "metadata": {},
     "output_type": "execute_result"
    }
   ],
   "source": []
  },
  {
   "cell_type": "code",
   "execution_count": 10,
   "metadata": {
    "collapsed": true
   },
   "outputs": [],
   "source": [
    "ids = list(set(annos['subject_id'].get_values()))\n",
    "ids = np.random.permutation(ids)\n",
    "boundary = round(0.9 * len(ids))\n",
    "train_ids = set(ids[0:boundary])\n",
    "test_ids = set(ids[boundary:])\n",
    "\n",
    "train_images = []\n",
    "train_labels = []\n",
    "test_images = []\n",
    "test_labels = []\n",
    "for fp in train_ids:\n",
    "    fn = image_folder + fp\n",
    "    image = mio.import_image(fn)\n",
    "    \n",
    "\n",
    "for fp in glob.glob(image_folder + '*.jpg'):\n",
    "    fn = os.path.basename(fp)\n",
    "    image = mio.import_image(fp)\n",
    "    assert(image.shape == (height, width))\n",
    "    assert(image.n_channels == channels)\n",
    "    if bool(np.random.randint(0,1)):\n",
    "        image = image.mirror()\n",
    "    if annos.loc[annos['file_name'] == fn]['subject_id'].sum() in train_ids:\n",
    "        train_images.append(image)\n",
    "        train_labels.append(annos.loc[annos['file_name'] == fn][variable].sum())\n",
    "    else:\n",
    "        test_images.append(image)\n",
    "        test_labels.append(annos.loc[annos['file_name'] == fn][variable].sum())"
   ]
  },
  {
   "cell_type": "code",
   "execution_count": 11,
   "metadata": {
    "collapsed": false
   },
   "outputs": [
    {
     "name": "stdout",
     "output_type": "stream",
     "text": [
      "X_train shape: (6632, 128, 128, 3)\n",
      "6632 train samples\n",
      "778 test samples\n",
      "y_train shape: (6632, 2)\n"
     ]
    }
   ],
   "source": [
    "nb_classes = 2\n",
    "\n",
    "# input image dimensions\n",
    "img_rows, img_cols, img_channels = height, width, channels\n",
    "\n",
    "X_train = np.stack([img.pixels for img in train_images])\n",
    "X_test = np.stack([img.pixels for img in test_images])\n",
    "if K.image_dim_ordering() == 'tf':\n",
    "    X_train = X_train.reshape(X_train.shape[0], img_rows, img_cols, channels)\n",
    "    X_test = X_test.reshape(X_test.shape[0], img_rows, img_cols, channels)\n",
    "    input_shape = input_shape = (img_rows, img_cols, channels)\n",
    "else:\n",
    "    input_shape = (channels, img_rows, img_cols)\n",
    "    \n",
    "y_train = np.array(train_labels)\n",
    "y_test = np.array(test_labels)\n",
    "#(X_train, y_train), (X_test, y_test) = randomSplit(Xs, ys, 0.1)\n",
    "\n",
    "X_train = X_train.astype('float32')\n",
    "X_test = X_test.astype('float32')\n",
    "print('X_train shape:', X_train.shape)\n",
    "print(X_train.shape[0], 'train samples')\n",
    "print(X_test.shape[0], 'test samples')\n",
    "\n",
    "# convert class vectors to trinary class matrices\n",
    "y_train = np_utils.to_categorical(y_train, nb_classes)\n",
    "y_test = np_utils.to_categorical(y_test, nb_classes)\n",
    "\n",
    "print('y_train shape:', y_train.shape)\n",
    "\n",
    "X_train, y_train = randomOrder(X_train, y_train)\n",
    "X_test, y_test = randomOrder(X_test, y_test)"
   ]
  },
  {
   "cell_type": "code",
   "execution_count": 15,
   "metadata": {
    "collapsed": false
   },
   "outputs": [
    {
     "name": "stdout",
     "output_type": "stream",
     "text": [
      "Train on 6632 samples, validate on 778 samples\n",
      "Epoch 1/2\n",
      "6632/6632 [==============================] - 734s - loss: 0.6730 - acc: 0.6137 - val_loss: 0.6625 - val_acc: 0.6324\n",
      "Epoch 2/2\n",
      "6632/6632 [==============================] - 727s - loss: 0.6652 - acc: 0.6146 - val_loss: 0.6375 - val_acc: 0.6324\n",
      "Test score: 0.637498436366\n",
      "Test accuracy: 0.632390745655\n"
     ]
    }
   ],
   "source": [
    "from keras.models import Sequential\n",
    "from keras.layers import Dense, Dropout, Activation, Flatten\n",
    "from keras.layers import Convolution2D, MaxPooling2D\n",
    "\n",
    "batch_size = 50\n",
    "nb_epoch = 2\n",
    "\n",
    "# number of convolutional filters to use\n",
    "nb_filters1 = 48\n",
    "# convolution kernel size\n",
    "kernel1 = (7, 7)\n",
    "# size of pooling area for max pooling\n",
    "pool1 = (3, 3)\n",
    "\n",
    "# number of convolutional filters to use\n",
    "nb_filters2 = 128\n",
    "# convolution kernel size\n",
    "kernel2 = (5, 5)\n",
    "# size of pooling area for max pooling\n",
    "pool2 = (3, 3)\n",
    "\n",
    "# number of convolutional filters to use\n",
    "nb_filters3 = 192\n",
    "# convolution kernel size\n",
    "kernel3 = (3, 3)\n",
    "# size of pooling area for max pooling\n",
    "pool3 = (3, 3)\n",
    "\n",
    "dense1 = 256\n",
    "dense2 = 256\n",
    "\n",
    "model = Sequential()\n",
    "\n",
    "model.add(Convolution2D(nb_filters1, kernel1[0], kernel1[1],\n",
    "                        border_mode='valid',\n",
    "                        input_shape=input_shape))\n",
    "model.add(Activation('relu'))\n",
    "model.add(MaxPooling2D(pool_size=pool1))\n",
    "model.add(Dropout(0.2))\n",
    "model.add(Convolution2D(nb_filters2, kernel2[0], kernel2[1]))\n",
    "model.add(Activation('relu'))\n",
    "model.add(MaxPooling2D(pool_size=pool2))\n",
    "model.add(Dropout(0.2))\n",
    "model.add(Convolution2D(nb_filters3, kernel3[0], kernel3[1]))\n",
    "model.add(Activation('relu'))\n",
    "model.add(MaxPooling2D(pool_size=pool3))\n",
    "model.add(Dropout(0.2))\n",
    "\n",
    "model.add(Flatten())\n",
    "model.add(Dense(dense1))\n",
    "model.add(Activation('relu'))\n",
    "model.add(Dropout(0.4))\n",
    "model.add(Dense(dense2))\n",
    "model.add(Activation('relu'))\n",
    "model.add(Dropout(0.4))\n",
    "model.add(Dense(nb_classes))\n",
    "model.add(Activation('softmax'))\n",
    "\n",
    "model.compile(loss='categorical_crossentropy',\n",
    "              optimizer='adadelta',\n",
    "              metrics=['accuracy'])\n",
    "\n",
    "model.fit(X_train, y_train, batch_size=batch_size, nb_epoch=nb_epoch,\n",
    "          verbose=1, validation_data=(X_test, y_test))\n",
    "score = model.evaluate(X_test, y_test, verbose=0)\n",
    "print('Test score:', score[0])\n",
    "print('Test accuracy:', score[1])"
   ]
  },
  {
   "cell_type": "code",
   "execution_count": null,
   "metadata": {
    "collapsed": true
   },
   "outputs": [],
   "source": [
    "model.save(\"gender_classifier.h5\")"
   ]
  }
 ],
 "metadata": {
  "anaconda-cloud": {},
  "kernelspec": {
   "display_name": "Python 3",
   "language": "python",
   "name": "python3"
  },
  "language_info": {
   "codemirror_mode": {
    "name": "ipython",
    "version": 3
   },
   "file_extension": ".py",
   "mimetype": "text/x-python",
   "name": "python",
   "nbconvert_exporter": "python",
   "pygments_lexer": "ipython3",
   "version": "3.4.5"
  }
 },
 "nbformat": 4,
 "nbformat_minor": 1
}
